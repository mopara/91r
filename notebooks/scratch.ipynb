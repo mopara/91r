{
 "cells": [
  {
   "cell_type": "code",
   "execution_count": 1,
   "metadata": {},
   "outputs": [],
   "source": [
    "import numpy as np\n",
    "import matplotlib.pyplot as plt\n",
    "import scipy.stats as stat"
   ]
  },
  {
   "cell_type": "code",
   "execution_count": 2,
   "metadata": {},
   "outputs": [],
   "source": [
    "import torch as T\n",
    "import torch.nn as nn\n",
    "import torch.nn.functional as F\n",
    "import torch.optim as optim"
   ]
  },
  {
   "cell_type": "code",
   "execution_count": 15,
   "metadata": {},
   "outputs": [],
   "source": [
    "import keras as K\n",
    "import keras.layers as KL\n",
    "import keras.models as KM"
   ]
  },
  {
   "cell_type": "code",
   "execution_count": 17,
   "metadata": {},
   "outputs": [
    {
     "data": {
      "text/plain": [
       "(None, 4, 4, 8)"
      ]
     },
     "execution_count": 17,
     "metadata": {},
     "output_type": "execute_result"
    }
   ],
   "source": [
    "H = W = 28\n",
    "enc = KM.Sequential()\n",
    "enc.add(KL.Conv2D(16, (3, 3), activation=\"relu\", padding=\"same\",\n",
    "input_shape=(H, W, 1)))\n",
    "enc.add(KL.MaxPooling2D((2, 2), padding=\"same\"))\n",
    "enc.add(KL.Conv2D(8, (3, 3), activation=\"relu\", padding=\"same\"))\n",
    "enc.add(KL.MaxPooling2D((2, 2), padding=\"same\"))\n",
    "enc.add(KL.Conv2D(8, (3, 3), activation=\"relu\", padding=\"same\"))\n",
    "enc.add(KL.MaxPooling2D((2, 2), padding=\"same\"))\n",
    "enc.layers[-1].output_shape"
   ]
  },
  {
   "cell_type": "code",
   "execution_count": 30,
   "metadata": {},
   "outputs": [
    {
     "data": {
      "text/plain": [
       "(None, 10)"
      ]
     },
     "execution_count": 30,
     "metadata": {},
     "output_type": "execute_result"
    }
   ],
   "source": [
    "seq = KM.Sequential()\n",
    "seq.add(KL.Dense(10, input_shape=(10,)))\n",
    "seq.layers[0].output_shape"
   ]
  },
  {
   "cell_type": "code",
   "execution_count": 45,
   "metadata": {},
   "outputs": [
    {
     "data": {
      "text/plain": [
       "torch.Size([100, 28, 28, 1])"
      ]
     },
     "execution_count": 45,
     "metadata": {},
     "output_type": "execute_result"
    }
   ],
   "source": [
    "x = T.randn(100,28,28)\n",
    "x.unsqueeze(3).shape"
   ]
  },
  {
   "cell_type": "code",
   "execution_count": 46,
   "metadata": {},
   "outputs": [],
   "source": [
    "c = nn.Conv2d(1, 16, 3, padding=1)"
   ]
  },
  {
   "cell_type": "code",
   "execution_count": 53,
   "metadata": {},
   "outputs": [
    {
     "data": {
      "text/plain": [
       "2"
      ]
     },
     "execution_count": 53,
     "metadata": {},
     "output_type": "execute_result"
    }
   ],
   "source": [
    "len(list(c.parameters()))"
   ]
  },
  {
   "cell_type": "code",
   "execution_count": 58,
   "metadata": {},
   "outputs": [
    {
     "data": {
      "text/plain": [
       "torch.Size([100, 3, 9, 16])"
      ]
     },
     "execution_count": 58,
     "metadata": {},
     "output_type": "execute_result"
    }
   ],
   "source": [
    "N, H, W, C = shape = (100, 9, 16, 3)\n",
    "x = T.randn(*shape)\n",
    "x.permute(0,3,1,2).shape"
   ]
  },
  {
   "cell_type": "code",
   "execution_count": 67,
   "metadata": {},
   "outputs": [
    {
     "data": {
      "text/plain": [
       "torch.Size([100, 432])"
      ]
     },
     "execution_count": 67,
     "metadata": {},
     "output_type": "execute_result"
    }
   ],
   "source": [
    "x.view(x.size(0),-1).shape"
   ]
  },
  {
   "cell_type": "code",
   "execution_count": 64,
   "metadata": {},
   "outputs": [
    {
     "data": {
      "text/plain": [
       "array([-0.03128077, -0.03140585, -0.03711113, -0.03376895,  0.00679265,\n",
       "        0.07929957, -0.03560515, -0.01639745,  0.00513535, -0.03514862,\n",
       "        0.01214435,  0.03809296, -0.04939611, -0.01014966, -0.01141113,\n",
       "        0.05275601, -0.11835978,  0.00104154,  0.02069406,  0.01723971,\n",
       "       -0.02590562, -0.02217248,  0.1149882 ,  0.09371392,  0.01756015,\n",
       "        0.03562615,  0.03454905,  0.03372058, -0.03395695,  0.04372535,\n",
       "       -0.01398423,  0.06773129, -0.02385572, -0.08826905,  0.0351416 ,\n",
       "        0.00820814,  0.00754348, -0.0866015 ,  0.0070538 , -0.0322756 ,\n",
       "       -0.0079617 ,  0.04043268,  0.05499927, -0.01727202,  0.03432511,\n",
       "        0.0692946 ,  0.01672833, -0.00609648,  0.03495277, -0.03003597,\n",
       "        0.09695362, -0.02153637, -0.02725231,  0.01253891, -0.03463025,\n",
       "        0.00286305, -0.0222347 , -0.05259975,  0.04361466, -0.00577727,\n",
       "        0.10136186,  0.02847631, -0.0156172 , -0.01082244, -0.0203407 ,\n",
       "        0.01461098, -0.00611476, -0.03060215, -0.0350413 ,  0.06693184,\n",
       "       -0.01071233, -0.00040449,  0.05418933, -0.01818164,  0.04418454,\n",
       "       -0.02437235,  0.01688581, -0.04679177, -0.00048936, -0.01825155,\n",
       "        0.01754458,  0.0249173 , -0.07512808, -0.07919672,  0.00262196,\n",
       "        0.0524866 ,  0.05020837, -0.06964623,  0.0156933 , -0.1210858 ,\n",
       "        0.08577061,  0.01098469,  0.07518345,  0.01276763,  0.04395642,\n",
       "       -0.00884404,  0.05404012, -0.00124339,  0.04706128,  0.04545214])"
      ]
     },
     "execution_count": 64,
     "metadata": {},
     "output_type": "execute_result"
    }
   ],
   "source": [
    "np.random.randn(*shape).mean(axis=(1,2,3))"
   ]
  },
  {
   "cell_type": "code",
   "execution_count": 71,
   "metadata": {},
   "outputs": [
    {
     "data": {
      "text/plain": [
       "tensor([[[ 0.7966,  0.6701],\n",
       "         [ 1.1672,  0.7463]],\n",
       "\n",
       "        [[-0.0609,  1.6982],\n",
       "         [ 1.0721,  3.1603]]])"
      ]
     },
     "execution_count": 71,
     "metadata": {},
     "output_type": "execute_result"
    }
   ],
   "source": [
    "x = T.ones(2,2,2) + T.randn(2,2,2)\n",
    "x"
   ]
  },
  {
   "cell_type": "code",
   "execution_count": 72,
   "metadata": {},
   "outputs": [
    {
     "data": {
      "text/plain": [
       "tensor([[[ 0.7966,  0.6701],\n",
       "         [ 1.0000,  0.7463]],\n",
       "\n",
       "        [[ 0.0000,  1.0000],\n",
       "         [ 1.0000,  1.0000]]])"
      ]
     },
     "execution_count": 72,
     "metadata": {},
     "output_type": "execute_result"
    }
   ],
   "source": [
    "x.clamp_(0,1)"
   ]
  },
  {
   "cell_type": "code",
   "execution_count": 73,
   "metadata": {},
   "outputs": [
    {
     "ename": "AttributeError",
     "evalue": "'Tensor' object has no attribute 'randn'",
     "output_type": "error",
     "traceback": [
      "\u001b[0;31m---------------------------------------------------------------------------\u001b[0m",
      "\u001b[0;31mAttributeError\u001b[0m                            Traceback (most recent call last)",
      "\u001b[0;32m<ipython-input-73-a17df98c77f2>\u001b[0m in \u001b[0;36m<module>\u001b[0;34m()\u001b[0m\n\u001b[0;32m----> 1\u001b[0;31m \u001b[0mT\u001b[0m\u001b[0;34m.\u001b[0m\u001b[0mones\u001b[0m\u001b[0;34m(\u001b[0m\u001b[0;34m(\u001b[0m\u001b[0;36m4\u001b[0m\u001b[0;34m,\u001b[0m \u001b[0;36m5\u001b[0m\u001b[0;34m,\u001b[0m \u001b[0;36m6\u001b[0m\u001b[0;34m)\u001b[0m\u001b[0;34m)\u001b[0m\u001b[0;34m.\u001b[0m\u001b[0mrandn\u001b[0m\u001b[0;34m(\u001b[0m\u001b[0;34m)\u001b[0m\u001b[0;34m.\u001b[0m\u001b[0mshape\u001b[0m\u001b[0;34m\u001b[0m\u001b[0m\n\u001b[0m",
      "\u001b[0;31mAttributeError\u001b[0m: 'Tensor' object has no attribute 'randn'"
     ]
    }
   ],
   "source": [
    "T.ones((4, 5, 6)).randn().shape"
   ]
  },
  {
   "cell_type": "code",
   "execution_count": 74,
   "metadata": {},
   "outputs": [],
   "source": [
    "# t.randn_like(log_sigma).mul_((0.5*log_sigma).exp_()).add_(mu)\n",
    "S = T.randn(5,5)\n",
    "M = T.randn(5,5)"
   ]
  },
  {
   "cell_type": "code",
   "execution_count": 75,
   "metadata": {},
   "outputs": [
    {
     "data": {
      "text/plain": [
       "(tensor([[ 0.2346,  0.0387,  2.4075,  0.4174, -0.6153],\n",
       "         [ 1.9141,  0.1388,  0.6303,  0.2822,  0.1745],\n",
       "         [ 0.6830,  0.0112, -0.8546, -0.8576,  1.4736],\n",
       "         [-1.9066,  0.3136,  1.1109, -0.1213,  0.0236],\n",
       "         [-0.3291, -0.3856, -0.3412, -1.9049, -0.5645]]),\n",
       " tensor([[-0.5141, -0.6121,  0.6223,  0.0948,  0.2827],\n",
       "         [-1.5340,  1.0838,  0.1655, -2.4982, -0.2128],\n",
       "         [ 0.2984,  0.1590,  0.1693,  0.6040, -1.8696],\n",
       "         [ 0.3916,  0.4016, -1.1077, -0.4135,  0.3196],\n",
       "         [ 0.9521, -1.0119,  1.1728, -1.7679,  0.4394]]))"
      ]
     },
     "execution_count": 75,
     "metadata": {},
     "output_type": "execute_result"
    }
   ],
   "source": [
    "S, M"
   ]
  },
  {
   "cell_type": "code",
   "execution_count": 76,
   "metadata": {},
   "outputs": [
    {
     "data": {
      "text/plain": [
       "tensor([[-0.1056, -0.7452,  4.4939,  0.2895,  1.1320],\n",
       "        [-2.0194,  2.2905, -0.2408, -2.8659, -2.0724],\n",
       "        [-1.0927, -0.3211, -0.4285,  0.1085,  0.3718],\n",
       "        [ 0.4798,  0.0778, -1.2579, -0.9094,  1.3348],\n",
       "        [ 0.6015, -1.8260,  2.1360, -1.7654,  1.0876]])"
      ]
     },
     "execution_count": 76,
     "metadata": {},
     "output_type": "execute_result"
    }
   ],
   "source": [
    "T.randn_like(S).mul_((0.5*S).exp_()).add_(M)"
   ]
  },
  {
   "cell_type": "code",
   "execution_count": 77,
   "metadata": {},
   "outputs": [
    {
     "data": {
      "text/plain": [
       "(tensor([[ 0.2346,  0.0387,  2.4075,  0.4174, -0.6153],\n",
       "         [ 1.9141,  0.1388,  0.6303,  0.2822,  0.1745],\n",
       "         [ 0.6830,  0.0112, -0.8546, -0.8576,  1.4736],\n",
       "         [-1.9066,  0.3136,  1.1109, -0.1213,  0.0236],\n",
       "         [-0.3291, -0.3856, -0.3412, -1.9049, -0.5645]]),\n",
       " tensor([[-0.5141, -0.6121,  0.6223,  0.0948,  0.2827],\n",
       "         [-1.5340,  1.0838,  0.1655, -2.4982, -0.2128],\n",
       "         [ 0.2984,  0.1590,  0.1693,  0.6040, -1.8696],\n",
       "         [ 0.3916,  0.4016, -1.1077, -0.4135,  0.3196],\n",
       "         [ 0.9521, -1.0119,  1.1728, -1.7679,  0.4394]]))"
      ]
     },
     "execution_count": 77,
     "metadata": {},
     "output_type": "execute_result"
    }
   ],
   "source": [
    "S, M"
   ]
  },
  {
   "cell_type": "code",
   "execution_count": 82,
   "metadata": {},
   "outputs": [],
   "source": [
    "x, y = T.rand(2, 6, 7, 8)"
   ]
  },
  {
   "cell_type": "code",
   "execution_count": 83,
   "metadata": {},
   "outputs": [
    {
     "data": {
      "text/plain": [
       "tensor(358.3885)"
      ]
     },
     "execution_count": 83,
     "metadata": {},
     "output_type": "execute_result"
    }
   ],
   "source": [
    "F.binary_cross_entropy(x, y, size_average=False)"
   ]
  },
  {
   "cell_type": "code",
   "execution_count": 84,
   "metadata": {},
   "outputs": [
    {
     "data": {
      "text/plain": [
       "tensor(358.3885)"
      ]
     },
     "execution_count": 84,
     "metadata": {},
     "output_type": "execute_result"
    }
   ],
   "source": [
    "F.binary_cross_entropy(x, y, reduce=False).sum()"
   ]
  },
  {
   "cell_type": "code",
   "execution_count": 87,
   "metadata": {
    "scrolled": true
   },
   "outputs": [
    {
     "data": {
      "text/plain": [
       "tensor([[[ 0.9809,  0.9640,  0.6777,  0.6383,  0.3346,  0.7805,  0.0528,\n",
       "           0.2286],\n",
       "         [ 0.1237,  0.9896,  0.3023,  0.8594,  0.7110,  0.6426,  0.0320,\n",
       "           0.7413],\n",
       "         [ 0.1347,  0.6240,  0.9108,  0.6791,  0.4521,  0.8203,  0.5146,\n",
       "           0.0509],\n",
       "         [ 0.8184,  0.4085,  0.5172,  0.0950,  0.7101,  0.0600,  0.1392,\n",
       "           0.6908],\n",
       "         [ 0.8460,  0.1906,  0.4240,  0.6927,  0.0323,  0.7730,  0.8410,\n",
       "           0.2109],\n",
       "         [ 0.1930,  0.6140,  0.2046,  0.3310,  0.9203,  0.3139,  0.8127,\n",
       "           0.2293],\n",
       "         [ 0.3310,  0.7919,  0.4615,  0.5541,  0.1563,  0.6771,  0.0275,\n",
       "           0.7224]],\n",
       "\n",
       "        [[ 0.6739,  0.3479,  0.7164,  0.5972,  0.2427,  0.0098,  0.5110,\n",
       "           0.8100],\n",
       "         [ 0.1925,  0.7289,  0.0279,  0.5792,  0.2073,  0.2319,  0.1938,\n",
       "           0.2870],\n",
       "         [ 0.1260,  0.1665,  0.4861,  0.8576,  0.5848,  0.7644,  0.2159,\n",
       "           0.9303],\n",
       "         [ 0.2858,  0.2613,  0.8868,  0.5196,  0.7886,  0.3339,  0.7170,\n",
       "           0.0864],\n",
       "         [ 0.7490,  0.9220,  0.9098,  0.6667,  0.7318,  0.4555,  0.1521,\n",
       "           0.4521],\n",
       "         [ 0.7009,  0.5908,  0.0940,  0.2105,  0.0463,  0.2472,  0.2280,\n",
       "           0.5191],\n",
       "         [ 0.9951,  0.9271,  0.6946,  0.3092,  0.9022,  0.8406,  0.7434,\n",
       "           0.4450]],\n",
       "\n",
       "        [[ 0.7706,  0.7077,  0.8264,  0.8204,  0.7970,  0.4959,  0.2412,\n",
       "           0.1667],\n",
       "         [ 0.9548,  0.0130,  0.4641,  0.7999,  0.9588,  0.5945,  0.2251,\n",
       "           0.0444],\n",
       "         [ 0.4575,  0.1638,  0.0124,  0.0806,  0.9673,  0.3930,  0.8190,\n",
       "           0.3976],\n",
       "         [ 0.2040,  0.7897,  0.5002,  0.0201,  0.5294,  0.0257,  0.0030,\n",
       "           0.5128],\n",
       "         [ 0.1624,  0.9680,  0.5822,  0.4892,  0.3480,  0.4942,  0.1849,\n",
       "           0.9508],\n",
       "         [ 0.8588,  0.7963,  0.9804,  0.5628,  0.5273,  0.1242,  0.3761,\n",
       "           0.5960],\n",
       "         [ 0.2191,  0.2256,  0.2904,  0.5282,  0.6441,  0.7071,  0.7218,\n",
       "           0.0567]],\n",
       "\n",
       "        [[ 0.7725,  0.5313,  0.2627,  0.1878,  0.1577,  0.7719,  0.6662,\n",
       "           0.8065],\n",
       "         [ 0.2860,  0.9648,  0.4613,  0.7082,  0.0853,  0.4105,  0.7600,\n",
       "           0.6396],\n",
       "         [ 0.5398,  0.2979,  0.4491,  0.8768,  0.5445,  0.4263,  0.3435,\n",
       "           0.8886],\n",
       "         [ 0.0245,  0.0636,  0.2764,  0.0154,  0.3286,  0.6330,  0.0516,\n",
       "           0.4145],\n",
       "         [ 0.2024,  0.0138,  0.7227,  0.9948,  0.3830,  0.0998,  0.1862,\n",
       "           0.8028],\n",
       "         [ 0.6405,  0.7222,  0.4764,  0.2490,  0.4839,  0.0358,  0.1486,\n",
       "           0.9367],\n",
       "         [ 0.7213,  0.1886,  0.8416,  0.7416,  0.9721,  0.2683,  0.6350,\n",
       "           0.5773]],\n",
       "\n",
       "        [[ 0.0765,  0.4085,  0.8574,  0.7038,  0.7607,  0.4741,  0.2745,\n",
       "           0.5298],\n",
       "         [ 0.8718,  0.0546,  0.9079,  0.6792,  0.7676,  0.7563,  0.6421,\n",
       "           0.8608],\n",
       "         [ 0.6738,  0.5070,  0.4352,  0.7843,  0.9394,  0.0821,  0.1786,\n",
       "           0.6238],\n",
       "         [ 0.9193,  0.4719,  0.4266,  0.1885,  0.5280,  0.2920,  0.4903,\n",
       "           0.6435],\n",
       "         [ 0.4846,  0.7813,  0.4487,  0.0501,  0.9105,  0.5568,  0.9230,\n",
       "           0.3118],\n",
       "         [ 0.2112,  0.8301,  0.5712,  0.1768,  0.1494,  0.0940,  0.3996,\n",
       "           0.6013],\n",
       "         [ 0.3317,  0.1443,  0.5396,  0.5455,  0.4199,  0.6519,  0.1900,\n",
       "           0.5637]],\n",
       "\n",
       "        [[ 0.3008,  0.0672,  0.8197,  0.5659,  0.9288,  0.9749,  0.6860,\n",
       "           0.8757],\n",
       "         [ 0.2997,  0.0457,  0.3821,  0.0003,  0.4319,  0.0924,  0.1603,\n",
       "           0.7596],\n",
       "         [ 0.8430,  0.1724,  0.5012,  0.8653,  0.3298,  0.2801,  0.5661,\n",
       "           0.0412],\n",
       "         [ 0.9437,  0.0143,  0.1600,  0.1847,  0.4437,  0.8952,  0.5651,\n",
       "           0.7475],\n",
       "         [ 0.9011,  0.6159,  0.1201,  0.7959,  0.3192,  0.0342,  0.2944,\n",
       "           0.6806],\n",
       "         [ 0.1759,  0.4023,  0.0067,  0.5319,  0.8354,  0.1239,  0.8198,\n",
       "           0.7855],\n",
       "         [ 0.6218,  0.6945,  0.7895,  0.4473,  0.0871,  0.5480,  0.5651,\n",
       "           0.8549]]])"
      ]
     },
     "execution_count": 87,
     "metadata": {},
     "output_type": "execute_result"
    }
   ],
   "source": [
    "x"
   ]
  },
  {
   "cell_type": "code",
   "execution_count": 86,
   "metadata": {
    "collapsed": true
   },
   "outputs": [
    {
     "data": {
      "text/plain": [
       "tensor([[[ 0.9809,  0.9640,  0.6777,  0.6383,  0.3346,  0.7805,  0.0528,\n",
       "           0.2286],\n",
       "         [ 0.1237,  0.9896,  0.3023,  0.8594,  0.7110,  0.6426,  0.0320,\n",
       "           0.7413],\n",
       "         [ 0.1347,  0.6240,  0.9108,  0.6791,  0.4521,  0.8203,  0.5146,\n",
       "           0.0509],\n",
       "         [ 0.8184,  0.4085,  0.5172,  0.0950,  0.7101,  0.0600,  0.1392,\n",
       "           0.6908],\n",
       "         [ 0.8460,  0.1906,  0.4240,  0.6927,  0.0323,  0.7730,  0.8410,\n",
       "           0.2109],\n",
       "         [ 0.1930,  0.6140,  0.2046,  0.3310,  0.9203,  0.3139,  0.8127,\n",
       "           0.2293],\n",
       "         [ 0.3310,  0.7919,  0.4615,  0.5541,  0.1563,  0.6771,  0.0275,\n",
       "           0.7224]],\n",
       "\n",
       "        [[ 0.6739,  0.3479,  0.7164,  0.5972,  0.2427,  0.0098,  0.5110,\n",
       "           0.8100],\n",
       "         [ 0.1925,  0.7289,  0.0279,  0.5792,  0.2073,  0.2319,  0.1938,\n",
       "           0.2870],\n",
       "         [ 0.1260,  0.1665,  0.4861,  0.8576,  0.5848,  0.7644,  0.2159,\n",
       "           0.9303],\n",
       "         [ 0.2858,  0.2613,  0.8868,  0.5196,  0.7886,  0.3339,  0.7170,\n",
       "           0.0864],\n",
       "         [ 0.7490,  0.9220,  0.9098,  0.6667,  0.7318,  0.4555,  0.1521,\n",
       "           0.4521],\n",
       "         [ 0.7009,  0.5908,  0.0940,  0.2105,  0.0463,  0.2472,  0.2280,\n",
       "           0.5191],\n",
       "         [ 0.9951,  0.9271,  0.6946,  0.3092,  0.9022,  0.8406,  0.7434,\n",
       "           0.4450]],\n",
       "\n",
       "        [[ 0.7706,  0.7077,  0.8264,  0.8204,  0.7970,  0.4959,  0.2412,\n",
       "           0.1667],\n",
       "         [ 0.9548,  0.0130,  0.4641,  0.7999,  0.9588,  0.5945,  0.2251,\n",
       "           0.0444],\n",
       "         [ 0.4575,  0.1638,  0.0124,  0.0806,  0.9673,  0.3930,  0.8190,\n",
       "           0.3976],\n",
       "         [ 0.2040,  0.7897,  0.5002,  0.0201,  0.5294,  0.0257,  0.0030,\n",
       "           0.5128],\n",
       "         [ 0.1624,  0.9680,  0.5822,  0.4892,  0.3480,  0.4942,  0.1849,\n",
       "           0.9508],\n",
       "         [ 0.8588,  0.7963,  0.9804,  0.5628,  0.5273,  0.1242,  0.3761,\n",
       "           0.5960],\n",
       "         [ 0.2191,  0.2256,  0.2904,  0.5282,  0.6441,  0.7071,  0.7218,\n",
       "           0.0567]],\n",
       "\n",
       "        [[ 0.7725,  0.5313,  0.2627,  0.1878,  0.1577,  0.7719,  0.6662,\n",
       "           0.8065],\n",
       "         [ 0.2860,  0.9648,  0.4613,  0.7082,  0.0853,  0.4105,  0.7600,\n",
       "           0.6396],\n",
       "         [ 0.5398,  0.2979,  0.4491,  0.8768,  0.5445,  0.4263,  0.3435,\n",
       "           0.8886],\n",
       "         [ 0.0245,  0.0636,  0.2764,  0.0154,  0.3286,  0.6330,  0.0516,\n",
       "           0.4145],\n",
       "         [ 0.2024,  0.0138,  0.7227,  0.9948,  0.3830,  0.0998,  0.1862,\n",
       "           0.8028],\n",
       "         [ 0.6405,  0.7222,  0.4764,  0.2490,  0.4839,  0.0358,  0.1486,\n",
       "           0.9367],\n",
       "         [ 0.7213,  0.1886,  0.8416,  0.7416,  0.9721,  0.2683,  0.6350,\n",
       "           0.5773]],\n",
       "\n",
       "        [[ 0.0765,  0.4085,  0.8574,  0.7038,  0.7607,  0.4741,  0.2745,\n",
       "           0.5298],\n",
       "         [ 0.8718,  0.0546,  0.9079,  0.6792,  0.7676,  0.7563,  0.6421,\n",
       "           0.8608],\n",
       "         [ 0.6738,  0.5070,  0.4352,  0.7843,  0.9394,  0.0821,  0.1786,\n",
       "           0.6238],\n",
       "         [ 0.9193,  0.4719,  0.4266,  0.1885,  0.5280,  0.2920,  0.4903,\n",
       "           0.6435],\n",
       "         [ 0.4846,  0.7813,  0.4487,  0.0501,  0.9105,  0.5568,  0.9230,\n",
       "           0.3118],\n",
       "         [ 0.2112,  0.8301,  0.5712,  0.1768,  0.1494,  0.0940,  0.3996,\n",
       "           0.6013],\n",
       "         [ 0.3317,  0.1443,  0.5396,  0.5455,  0.4199,  0.6519,  0.1900,\n",
       "           0.5637]],\n",
       "\n",
       "        [[ 0.3008,  0.0672,  0.8197,  0.5659,  0.9288,  0.9749,  0.6860,\n",
       "           0.8757],\n",
       "         [ 0.2997,  0.0457,  0.3821,  0.0003,  0.4319,  0.0924,  0.1603,\n",
       "           0.7596],\n",
       "         [ 0.8430,  0.1724,  0.5012,  0.8653,  0.3298,  0.2801,  0.5661,\n",
       "           0.0412],\n",
       "         [ 0.9437,  0.0143,  0.1600,  0.1847,  0.4437,  0.8952,  0.5651,\n",
       "           0.7475],\n",
       "         [ 0.9011,  0.6159,  0.1201,  0.7959,  0.3192,  0.0342,  0.2944,\n",
       "           0.6806],\n",
       "         [ 0.1759,  0.4023,  0.0067,  0.5319,  0.8354,  0.1239,  0.8198,\n",
       "           0.7855],\n",
       "         [ 0.6218,  0.6945,  0.7895,  0.4473,  0.0871,  0.5480,  0.5651,\n",
       "           0.8549]]])"
      ]
     },
     "execution_count": 86,
     "metadata": {},
     "output_type": "execute_result"
    }
   ],
   "source": [
    "x.add(1).sub_(1)"
   ]
  },
  {
   "cell_type": "code",
   "execution_count": 91,
   "metadata": {},
   "outputs": [
    {
     "data": {
      "text/plain": [
       "torch.Size([336])"
      ]
     },
     "execution_count": 91,
     "metadata": {},
     "output_type": "execute_result"
    }
   ],
   "source": [
    "x.view(-1).shape"
   ]
  },
  {
   "cell_type": "code",
   "execution_count": 94,
   "metadata": {},
   "outputs": [
    {
     "data": {
      "text/plain": [
       "tensor([ 0.6118,  0.0275,  0.3020,  0.5255,  0.7216,  0.8078,  0.1647,\n",
       "         0.5451,  0.2431,  0.0588,  0.4196,  0.6353,  0.8980,  0.3216,\n",
       "         0.6196,  0.5373,  0.6471,  0.2000,  0.1333,  0.6471,  0.0549,\n",
       "         0.9137,  0.1373,  0.9412,  0.0157,  0.9451,  0.2118,  0.3137,\n",
       "         0.2039,  0.5608,  0.3765,  0.4745,  0.2824,  0.7882,  0.2157,\n",
       "         0.0000,  0.5804,  0.8902,  0.2784,  0.3882,  0.4157,  0.9804,\n",
       "         0.9765,  0.1608,  0.5804,  0.9216,  0.1294,  0.3804,  0.8667,\n",
       "         0.9294,  0.2118,  0.7961,  0.9529,  0.4314,  0.2980,  0.1922,\n",
       "         0.4118,  0.1804,  0.3922,  0.6235,  0.6275,  0.8431,  0.1176,\n",
       "         0.7608,  0.8157,  0.5333,  0.9137,  0.2392,  0.1725,  0.8039,\n",
       "         0.3882,  0.9294,  0.1059,  0.0745,  0.4392,  0.9961,  0.2980,\n",
       "         0.0627,  0.6275,  0.0000,  0.9961,  0.5098,  0.2588,  0.2902,\n",
       "         0.9686,  0.7451,  0.7961,  0.7961,  0.6706,  0.0588,  0.1647,\n",
       "         0.6588,  0.3255,  0.1686,  0.7686,  0.1333,  0.4784,  0.1569,\n",
       "         0.0039,  0.8745])"
      ]
     },
     "execution_count": 94,
     "metadata": {},
     "output_type": "execute_result"
    }
   ],
   "source": [
    "T.randint(0, 256, (100,)).float()/255"
   ]
  },
  {
   "cell_type": "code",
   "execution_count": 145,
   "metadata": {},
   "outputs": [],
   "source": [
    "import torch as t\n",
    "import torch"
   ]
  },
  {
   "cell_type": "code",
   "execution_count": 102,
   "metadata": {},
   "outputs": [],
   "source": [
    "f = nn.Conv2d(3, 1, 2)"
   ]
  },
  {
   "cell_type": "code",
   "execution_count": 103,
   "metadata": {},
   "outputs": [
    {
     "data": {
      "text/plain": [
       "torch.Size([1, 1, 9, 9])"
      ]
     },
     "execution_count": 103,
     "metadata": {},
     "output_type": "execute_result"
    }
   ],
   "source": [
    "f(t.randn(1, 3, 10, 10)).shape"
   ]
  },
  {
   "cell_type": "code",
   "execution_count": 106,
   "metadata": {},
   "outputs": [
    {
     "data": {
      "text/plain": [
       "torch.Size([42, 8])"
      ]
     },
     "execution_count": 106,
     "metadata": {},
     "output_type": "execute_result"
    }
   ],
   "source": [
    "x.resize_(42,8)\n",
    "x.shape"
   ]
  },
  {
   "cell_type": "code",
   "execution_count": 108,
   "metadata": {},
   "outputs": [
    {
     "data": {
      "text/plain": [
       "Linear(in_features=10, out_features=10, bias=True)"
      ]
     },
     "execution_count": 108,
     "metadata": {},
     "output_type": "execute_result"
    }
   ],
   "source": [
    "nn.Linear(10, 10)"
   ]
  },
  {
   "cell_type": "code",
   "execution_count": 138,
   "metadata": {},
   "outputs": [
    {
     "data": {
      "text/plain": [
       "(tensor([[ 1.7061,  0.1218, -2.2279],\n",
       "         [-0.0395,  0.2387,  0.2461],\n",
       "         [-0.7927, -0.6735, -0.3718],\n",
       "         [-0.3478,  0.5245, -0.5958],\n",
       "         [-1.1898, -0.1467, -0.2381]]), tensor([[-0.8228,  0.2954, -0.3622],\n",
       "         [-0.9790,  0.4025, -0.7653],\n",
       "         [ 0.2099, -1.8824, -0.1606],\n",
       "         [ 1.6328,  0.7243,  0.5299]]))"
      ]
     },
     "execution_count": 138,
     "metadata": {},
     "output_type": "execute_result"
    }
   ],
   "source": [
    "a = t.randn(5,3)\n",
    "b = t.randn(4, 3)\n",
    "a,b"
   ]
  },
  {
   "cell_type": "code",
   "execution_count": 141,
   "metadata": {},
   "outputs": [
    {
     "data": {
      "text/plain": [
       "torch.Size([1, 5, 3])"
      ]
     },
     "execution_count": 141,
     "metadata": {},
     "output_type": "execute_result"
    }
   ],
   "source": [
    "a.unsqueeze(0).shape"
   ]
  },
  {
   "cell_type": "code",
   "execution_count": 135,
   "metadata": {},
   "outputs": [
    {
     "data": {
      "text/plain": [
       "tensor([[ 1.,  2.,  3.,  4.],\n",
       "        [ 1.,  2.,  3.,  4.],\n",
       "        [ 1.,  2.,  3.,  4.],\n",
       "        [ 1.,  2.,  3.,  4.]])"
      ]
     },
     "execution_count": 135,
     "metadata": {},
     "output_type": "execute_result"
    }
   ],
   "source": []
  },
  {
   "cell_type": "code",
   "execution_count": 146,
   "metadata": {},
   "outputs": [],
   "source": [
    "def compute_kernel(x, y):\n",
    "    x_size = x.size(0)\n",
    "    y_size = y.size(0)\n",
    "    dim = x.size(1)\n",
    "    x = x.unsqueeze(1) # (x_size, 1, dim)\n",
    "    y = y.unsqueeze(0) # (1, y_size, dim)\n",
    "    tiled_x = x.expand(x_size, y_size, dim)\n",
    "    tiled_y = y.expand(x_size, y_size, dim)\n",
    "    kernel_input = (tiled_x - tiled_y).pow(2).mean(2)/float(dim)\n",
    "    return torch.exp(-kernel_input) # (x_size, y_size)\n",
    "\n",
    "def compute_mmd(x, y):\n",
    "    x_kernel = compute_kernel(x, x)\n",
    "    y_kernel = compute_kernel(y, y)\n",
    "    xy_kernel = compute_kernel(x, y)\n",
    "    mmd = x_kernel.mean() + y_kernel.mean() - 2*xy_kernel.mean()\n",
    "    return mmd"
   ]
  },
  {
   "cell_type": "code",
   "execution_count": 147,
   "metadata": {},
   "outputs": [],
   "source": [
    "z1, z2 = t.randn(2, 10, 10)"
   ]
  },
  {
   "cell_type": "code",
   "execution_count": 148,
   "metadata": {},
   "outputs": [
    {
     "data": {
      "text/plain": [
       "tensor(1.00000e-02 *\n",
       "       3.0256)"
      ]
     },
     "execution_count": 148,
     "metadata": {},
     "output_type": "execute_result"
    }
   ],
   "source": [
    "compute_mmd(z1, z2)"
   ]
  },
  {
   "cell_type": "code",
   "execution_count": 153,
   "metadata": {},
   "outputs": [],
   "source": [
    "  def kernel(a, b):\n",
    "    N_a, D = a.size()\n",
    "    N_b = b.size(0)\n",
    "\n",
    "    a = a.unsqueeze(1).expand(N_a, N_b, D)\n",
    "    b = b.unsqueeze(0).expand(N_a, N_b, D)\n",
    "\n",
    "    return a.sub(b).pow_(2).mean(dim=2).div_(D).mul_(-1).exp_()\n",
    "\n",
    "  def mmd_loss(y_prd, y):\n",
    "    y_prd_k = kernel(y_prd, y_prd)\n",
    "    y_k = kernel(y, y)\n",
    "    y_prd_y_k = kernel(y_prd, y)\n",
    "\n",
    "    # return y_k.mean() + y_prd_k.mean() - 2*y_prd_y_k.mean()\n",
    "    return y_prd_y_k.mul(-2).add_(y_prd_k).add_(y_k).mean()"
   ]
  },
  {
   "cell_type": "code",
   "execution_count": 154,
   "metadata": {},
   "outputs": [
    {
     "data": {
      "text/plain": [
       "tensor(1.00000e-02 *\n",
       "       3.0256)"
      ]
     },
     "execution_count": 154,
     "metadata": {},
     "output_type": "execute_result"
    }
   ],
   "source": [
    "mmd_loss(z1, z2)"
   ]
  },
  {
   "cell_type": "code",
   "execution_count": null,
   "metadata": {},
   "outputs": [],
   "source": []
  }
 ],
 "metadata": {
  "kernelspec": {
   "display_name": "Python 2",
   "language": "python",
   "name": "python2"
  },
  "language_info": {
   "codemirror_mode": {
    "name": "ipython",
    "version": 2
   },
   "file_extension": ".py",
   "mimetype": "text/x-python",
   "name": "python",
   "nbconvert_exporter": "python",
   "pygments_lexer": "ipython2",
   "version": "2.7.15"
  }
 },
 "nbformat": 4,
 "nbformat_minor": 2
}
