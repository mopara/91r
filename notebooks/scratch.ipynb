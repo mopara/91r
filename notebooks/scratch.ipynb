{
 "cells": [
  {
   "cell_type": "code",
   "execution_count": 1,
   "metadata": {},
   "outputs": [],
   "source": [
    "import numpy as np\n",
    "import matplotlib.pyplot as plt\n",
    "import scipy.stats as stat"
   ]
  },
  {
   "cell_type": "code",
   "execution_count": 2,
   "metadata": {},
   "outputs": [],
   "source": [
    "import torch as T\n",
    "import torch.nn as nn\n",
    "import torch.nn.functional as F\n",
    "import torch.optim as optim"
   ]
  },
  {
   "cell_type": "code",
   "execution_count": 15,
   "metadata": {},
   "outputs": [],
   "source": [
    "import keras as K\n",
    "import keras.layers as KL\n",
    "import keras.models as KM"
   ]
  },
  {
   "cell_type": "code",
   "execution_count": 17,
   "metadata": {},
   "outputs": [
    {
     "data": {
      "text/plain": [
       "(None, 4, 4, 8)"
      ]
     },
     "execution_count": 17,
     "metadata": {},
     "output_type": "execute_result"
    }
   ],
   "source": [
    "H = W = 28\n",
    "enc = KM.Sequential()\n",
    "enc.add(KL.Conv2D(16, (3, 3), activation=\"relu\", padding=\"same\",\n",
    "input_shape=(H, W, 1)))\n",
    "enc.add(KL.MaxPooling2D((2, 2), padding=\"same\"))\n",
    "enc.add(KL.Conv2D(8, (3, 3), activation=\"relu\", padding=\"same\"))\n",
    "enc.add(KL.MaxPooling2D((2, 2), padding=\"same\"))\n",
    "enc.add(KL.Conv2D(8, (3, 3), activation=\"relu\", padding=\"same\"))\n",
    "enc.add(KL.MaxPooling2D((2, 2), padding=\"same\"))\n",
    "enc.layers[-1].output_shape"
   ]
  },
  {
   "cell_type": "code",
   "execution_count": 30,
   "metadata": {},
   "outputs": [
    {
     "data": {
      "text/plain": [
       "(None, 10)"
      ]
     },
     "execution_count": 30,
     "metadata": {},
     "output_type": "execute_result"
    }
   ],
   "source": [
    "seq = KM.Sequential()\n",
    "seq.add(KL.Dense(10, input_shape=(10,)))\n",
    "seq.layers[0].output_shape"
   ]
  },
  {
   "cell_type": "code",
   "execution_count": 45,
   "metadata": {},
   "outputs": [
    {
     "data": {
      "text/plain": [
       "torch.Size([100, 28, 28, 1])"
      ]
     },
     "execution_count": 45,
     "metadata": {},
     "output_type": "execute_result"
    }
   ],
   "source": [
    "x = T.randn(100,28,28)\n",
    "x.unsqueeze(3).shape"
   ]
  },
  {
   "cell_type": "code",
   "execution_count": 46,
   "metadata": {},
   "outputs": [],
   "source": [
    "c = nn.Conv2d(1, 16, 3, padding=1)"
   ]
  },
  {
   "cell_type": "code",
   "execution_count": 53,
   "metadata": {},
   "outputs": [
    {
     "data": {
      "text/plain": [
       "2"
      ]
     },
     "execution_count": 53,
     "metadata": {},
     "output_type": "execute_result"
    }
   ],
   "source": [
    "len(list(c.parameters()))"
   ]
  },
  {
   "cell_type": "code",
   "execution_count": 49,
   "metadata": {},
   "outputs": [
    {
     "data": {
      "text/plain": [
       "tensor([[[[-0.0991,  0.0391, -0.0023,  ..., -0.2057,  0.6960,  0.2920],\n",
       "          [ 0.4486,  0.1041, -0.1548,  ...,  0.6208,  0.2449,  0.2942],\n",
       "          [-0.0787,  0.2471,  0.0551,  ..., -0.2933,  0.6787,  0.2760],\n",
       "          ...,\n",
       "          [-0.2008,  0.2059, -0.2905,  ..., -0.9835,  0.1160,  0.7224],\n",
       "          [ 0.0983,  0.2534,  0.1529,  ...,  0.6781, -0.3888, -0.0354],\n",
       "          [-0.3188, -0.1027,  0.2333,  ..., -0.8070,  0.0091,  0.1665]],\n",
       "\n",
       "         [[ 0.3424, -0.0177, -0.6999,  ...,  0.1992, -0.2485, -0.6653],\n",
       "          [ 0.5101, -0.6603, -0.7182,  ...,  1.1341,  0.2494, -0.6868],\n",
       "          [ 0.1447, -0.8564, -0.1057,  ...,  1.1774,  0.4431, -0.0184],\n",
       "          ...,\n",
       "          [-0.4552,  0.5693, -0.1120,  ...,  0.0650,  0.1028, -0.0220],\n",
       "          [-0.1480,  0.0585, -0.2704,  ...,  0.3147,  1.2931, -0.3067],\n",
       "          [ 0.2305, -0.1490, -0.4746,  ..., -0.2917,  0.6861, -0.1417]],\n",
       "\n",
       "         [[-0.0057,  0.1515,  1.0341,  ..., -0.0956, -0.3890,  0.2395],\n",
       "          [-0.5694,  0.7440,  0.4420,  ..., -0.6790, -0.5877,  0.2266],\n",
       "          [ 0.4699,  0.8143,  0.1841,  ..., -0.2708, -0.2467, -0.6965],\n",
       "          ...,\n",
       "          [ 1.0668,  0.2873,  0.4605,  ...,  1.0625, -0.6316, -0.1704],\n",
       "          [ 0.0357,  0.1001,  0.5775,  ...,  0.2945, -0.4356,  0.2586],\n",
       "          [ 0.2962,  0.5983,  0.4952,  ...,  0.6674,  1.1684,  0.3316]],\n",
       "\n",
       "         ...,\n",
       "\n",
       "         [[ 0.5029, -0.2061,  0.5412,  ...,  0.7371, -0.1396, -0.1364],\n",
       "          [-0.1032,  0.7804,  0.4747,  ..., -0.3533, -0.6609, -0.2027],\n",
       "          [ 0.1672,  0.0257, -0.0245,  ...,  0.8317,  0.0862, -0.1097],\n",
       "          ...,\n",
       "          [ 0.6450,  0.2693,  0.5205,  ...,  1.5870, -0.1238, -1.0518],\n",
       "          [ 0.3981,  0.2873,  0.6990,  ...,  0.0709,  0.6502,  0.4395],\n",
       "          [ 0.2567,  0.3606, -0.0280,  ...,  0.4794,  1.3737,  0.6921]],\n",
       "\n",
       "         [[ 0.4508,  0.2148,  0.5292,  ...,  0.9228,  1.3289,  1.0831],\n",
       "          [ 0.7233,  0.7615,  0.1719,  ...,  0.8373,  0.8567,  1.3909],\n",
       "          [ 0.8437,  0.5270,  0.0951,  ..., -0.2848,  0.2652,  0.4040],\n",
       "          ...,\n",
       "          [-0.0423,  0.0786,  0.0183,  ...,  0.3500,  0.0167,  0.3507],\n",
       "          [ 0.1554,  0.3282,  0.5787,  ..., -0.1821, -0.6915,  0.3281],\n",
       "          [ 0.2702,  0.5755,  0.6347,  ..., -0.9732,  0.1013,  0.2288]],\n",
       "\n",
       "         [[-0.0178,  0.1757, -0.0080,  ...,  0.8060,  1.0771,  0.9783],\n",
       "          [ 0.6854,  0.6065, -0.7201,  ...,  0.0187,  0.3296,  0.5702],\n",
       "          [ 0.9787, -0.3719, -0.4527,  ..., -0.6983, -0.6574, -1.1959],\n",
       "          ...,\n",
       "          [-0.1803, -0.0708, -0.2785,  ..., -0.3245, -1.1106,  0.5098],\n",
       "          [-0.4021,  0.5004,  0.3978,  ..., -1.2953, -0.8698, -0.0068],\n",
       "          [ 0.3838,  0.5232,  0.1846,  ..., -0.4450,  0.8249, -0.4994]]]])"
      ]
     },
     "execution_count": 49,
     "metadata": {},
     "output_type": "execute_result"
    }
   ],
   "source": [
    "N, C, H, W = shape = (1, 1, 10, 10)\n",
    "c(T.randn(*shape))"
   ]
  },
  {
   "cell_type": "code",
   "execution_count": null,
   "metadata": {},
   "outputs": [],
   "source": []
  }
 ],
 "metadata": {
  "kernelspec": {
   "display_name": "Python 2",
   "language": "python",
   "name": "python2"
  },
  "language_info": {
   "codemirror_mode": {
    "name": "ipython",
    "version": 2
   },
   "file_extension": ".py",
   "mimetype": "text/x-python",
   "name": "python",
   "nbconvert_exporter": "python",
   "pygments_lexer": "ipython2",
   "version": "2.7.15"
  }
 },
 "nbformat": 4,
 "nbformat_minor": 2
}
