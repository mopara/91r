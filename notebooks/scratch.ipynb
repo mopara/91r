{
 "cells": [
  {
   "cell_type": "code",
   "execution_count": 1,
   "metadata": {},
   "outputs": [],
   "source": [
    "import numpy as np\n",
    "import matplotlib.pyplot as plt\n",
    "import scipy.stats as stat"
   ]
  },
  {
   "cell_type": "code",
   "execution_count": 2,
   "metadata": {},
   "outputs": [],
   "source": [
    "import torch as T\n",
    "import torch.nn as nn\n",
    "import torch.nn.functional as F\n",
    "import torch.optim as optim"
   ]
  },
  {
   "cell_type": "code",
   "execution_count": 14,
   "metadata": {},
   "outputs": [],
   "source": [
    "import keras as K\n",
    "from keras.layers import Input, Dense\n",
    "from keras.models import Model"
   ]
  },
  {
   "cell_type": "code",
   "execution_count": 6,
   "metadata": {},
   "outputs": [],
   "source": [
    "layer = nn.Linear(5, 10)"
   ]
  },
  {
   "cell_type": "code",
   "execution_count": 8,
   "metadata": {},
   "outputs": [
    {
     "data": {
      "text/plain": [
       "[Parameter containing:\n",
       " tensor([[ 0.0573,  0.3235,  0.1096,  0.2283,  0.3479],\n",
       "         [ 0.1974,  0.0226,  0.3953, -0.1411,  0.2091],\n",
       "         [-0.2569, -0.2003,  0.3738,  0.4228,  0.0897],\n",
       "         [-0.0276,  0.3430, -0.1228,  0.3022, -0.1704],\n",
       "         [-0.1291, -0.4137, -0.0901, -0.1891, -0.4353],\n",
       "         [ 0.0270,  0.4180,  0.4233, -0.4339,  0.0609],\n",
       "         [-0.3881, -0.3883,  0.3954, -0.2417,  0.1240],\n",
       "         [-0.4169, -0.3187,  0.3027,  0.2376, -0.0362],\n",
       "         [ 0.3118, -0.1549, -0.1227,  0.0920,  0.4161],\n",
       "         [ 0.2448,  0.2855, -0.3704, -0.0101, -0.4267]]), Parameter containing:\n",
       " tensor([-0.0580,  0.0539, -0.1297, -0.3654, -0.4319, -0.4127, -0.2834,\n",
       "         -0.1174,  0.4213, -0.4226])]"
      ]
     },
     "execution_count": 8,
     "metadata": {},
     "output_type": "execute_result"
    }
   ],
   "source": [
    "list(layer.parameters())"
   ]
  },
  {
   "cell_type": "code",
   "execution_count": 9,
   "metadata": {},
   "outputs": [
    {
     "data": {
      "text/plain": [
       "['__call__',\n",
       " '__class__',\n",
       " '__delattr__',\n",
       " '__dict__',\n",
       " '__dir__',\n",
       " '__doc__',\n",
       " '__format__',\n",
       " '__getattr__',\n",
       " '__getattribute__',\n",
       " '__hash__',\n",
       " '__init__',\n",
       " '__module__',\n",
       " '__new__',\n",
       " '__reduce__',\n",
       " '__reduce_ex__',\n",
       " '__repr__',\n",
       " '__setattr__',\n",
       " '__setstate__',\n",
       " '__sizeof__',\n",
       " '__str__',\n",
       " '__subclasshook__',\n",
       " '__weakref__',\n",
       " '_all_buffers',\n",
       " '_apply',\n",
       " '_backend',\n",
       " '_backward_hooks',\n",
       " '_buffers',\n",
       " '_forward_hooks',\n",
       " '_forward_pre_hooks',\n",
       " '_get_name',\n",
       " '_load_from_state_dict',\n",
       " '_modules',\n",
       " '_parameters',\n",
       " '_slow_forward',\n",
       " '_tracing_name',\n",
       " '_version',\n",
       " 'add_module',\n",
       " 'apply',\n",
       " 'bias',\n",
       " 'children',\n",
       " 'cpu',\n",
       " 'cuda',\n",
       " 'double',\n",
       " 'dump_patches',\n",
       " 'eval',\n",
       " 'extra_repr',\n",
       " 'float',\n",
       " 'forward',\n",
       " 'half',\n",
       " 'in_features',\n",
       " 'load_state_dict',\n",
       " 'modules',\n",
       " 'named_children',\n",
       " 'named_modules',\n",
       " 'named_parameters',\n",
       " 'out_features',\n",
       " 'parameters',\n",
       " 'register_backward_hook',\n",
       " 'register_buffer',\n",
       " 'register_forward_hook',\n",
       " 'register_forward_pre_hook',\n",
       " 'register_parameter',\n",
       " 'reset_parameters',\n",
       " 'share_memory',\n",
       " 'state_dict',\n",
       " 'to',\n",
       " 'train',\n",
       " 'training',\n",
       " 'type',\n",
       " 'weight',\n",
       " 'zero_grad']"
      ]
     },
     "execution_count": 9,
     "metadata": {},
     "output_type": "execute_result"
    }
   ],
   "source": [
    "dir(layer)"
   ]
  },
  {
   "cell_type": "code",
   "execution_count": 13,
   "metadata": {},
   "outputs": [
    {
     "data": {
      "text/plain": [
       "Parameter containing:\n",
       "tensor([[ 0.0573,  0.3235,  0.1096,  0.2283,  0.3479],\n",
       "        [ 0.1974,  0.0226,  0.3953, -0.1411,  0.2091],\n",
       "        [-0.2569, -0.2003,  0.3738,  0.4228,  0.0897],\n",
       "        [-0.0276,  0.3430, -0.1228,  0.3022, -0.1704],\n",
       "        [-0.1291, -0.4137, -0.0901, -0.1891, -0.4353],\n",
       "        [ 0.0270,  0.4180,  0.4233, -0.4339,  0.0609],\n",
       "        [-0.3881, -0.3883,  0.3954, -0.2417,  0.1240],\n",
       "        [-0.4169, -0.3187,  0.3027,  0.2376, -0.0362],\n",
       "        [ 0.3118, -0.1549, -0.1227,  0.0920,  0.4161],\n",
       "        [ 0.2448,  0.2855, -0.3704, -0.0101, -0.4267]])"
      ]
     },
     "execution_count": 13,
     "metadata": {},
     "output_type": "execute_result"
    }
   ],
   "source": [
    "layer.weight"
   ]
  },
  {
   "cell_type": "code",
   "execution_count": null,
   "metadata": {},
   "outputs": [],
   "source": [
    "Dense(1)"
   ]
  }
 ],
 "metadata": {
  "kernelspec": {
   "display_name": "Python 2",
   "language": "python",
   "name": "python2"
  },
  "language_info": {
   "codemirror_mode": {
    "name": "ipython",
    "version": 2
   },
   "file_extension": ".py",
   "mimetype": "text/x-python",
   "name": "python",
   "nbconvert_exporter": "python",
   "pygments_lexer": "ipython2",
   "version": "2.7.15"
  }
 },
 "nbformat": 4,
 "nbformat_minor": 2
}
