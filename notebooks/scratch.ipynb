{
 "cells": [
  {
   "cell_type": "code",
   "execution_count": 1,
   "metadata": {},
   "outputs": [],
   "source": [
    "import numpy as np\n",
    "import matplotlib.pyplot as plt\n",
    "import scipy.stats as stat"
   ]
  },
  {
   "cell_type": "code",
   "execution_count": 2,
   "metadata": {},
   "outputs": [],
   "source": [
    "import torch as T\n",
    "import torch.nn as nn\n",
    "import torch.nn.functional as F\n",
    "import torch.optim as optim"
   ]
  },
  {
   "cell_type": "code",
   "execution_count": 15,
   "metadata": {},
   "outputs": [],
   "source": [
    "import keras as K\n",
    "import keras.layers as KL\n",
    "import keras.models as KM"
   ]
  },
  {
   "cell_type": "code",
   "execution_count": 17,
   "metadata": {},
   "outputs": [
    {
     "data": {
      "text/plain": [
       "(None, 4, 4, 8)"
      ]
     },
     "execution_count": 17,
     "metadata": {},
     "output_type": "execute_result"
    }
   ],
   "source": [
    "H = W = 28\n",
    "enc = KM.Sequential()\n",
    "enc.add(KL.Conv2D(16, (3, 3), activation=\"relu\", padding=\"same\",\n",
    "input_shape=(H, W, 1)))\n",
    "enc.add(KL.MaxPooling2D((2, 2), padding=\"same\"))\n",
    "enc.add(KL.Conv2D(8, (3, 3), activation=\"relu\", padding=\"same\"))\n",
    "enc.add(KL.MaxPooling2D((2, 2), padding=\"same\"))\n",
    "enc.add(KL.Conv2D(8, (3, 3), activation=\"relu\", padding=\"same\"))\n",
    "enc.add(KL.MaxPooling2D((2, 2), padding=\"same\"))\n",
    "enc.layers[-1].output_shape"
   ]
  },
  {
   "cell_type": "code",
   "execution_count": 30,
   "metadata": {},
   "outputs": [
    {
     "data": {
      "text/plain": [
       "(None, 10)"
      ]
     },
     "execution_count": 30,
     "metadata": {},
     "output_type": "execute_result"
    }
   ],
   "source": [
    "seq = KM.Sequential()\n",
    "seq.add(KL.Dense(10, input_shape=(10,)))\n",
    "seq.layers[0].output_shape"
   ]
  },
  {
   "cell_type": "code",
   "execution_count": 45,
   "metadata": {},
   "outputs": [
    {
     "data": {
      "text/plain": [
       "torch.Size([100, 28, 28, 1])"
      ]
     },
     "execution_count": 45,
     "metadata": {},
     "output_type": "execute_result"
    }
   ],
   "source": [
    "x = T.randn(100,28,28)\n",
    "x.unsqueeze(3).shape"
   ]
  },
  {
   "cell_type": "code",
   "execution_count": 46,
   "metadata": {},
   "outputs": [],
   "source": [
    "c = nn.Conv2d(1, 16, 3, padding=1)"
   ]
  },
  {
   "cell_type": "code",
   "execution_count": 53,
   "metadata": {},
   "outputs": [
    {
     "data": {
      "text/plain": [
       "2"
      ]
     },
     "execution_count": 53,
     "metadata": {},
     "output_type": "execute_result"
    }
   ],
   "source": [
    "len(list(c.parameters()))"
   ]
  },
  {
   "cell_type": "code",
   "execution_count": 58,
   "metadata": {},
   "outputs": [
    {
     "data": {
      "text/plain": [
       "torch.Size([100, 3, 9, 16])"
      ]
     },
     "execution_count": 58,
     "metadata": {},
     "output_type": "execute_result"
    }
   ],
   "source": [
    "N, H, W, C = shape = (100, 9, 16, 3)\n",
    "x = T.randn(*shape)\n",
    "x.permute(0,3,1,2).shape"
   ]
  },
  {
   "cell_type": "code",
   "execution_count": 67,
   "metadata": {},
   "outputs": [
    {
     "data": {
      "text/plain": [
       "torch.Size([100, 432])"
      ]
     },
     "execution_count": 67,
     "metadata": {},
     "output_type": "execute_result"
    }
   ],
   "source": [
    "x.view(x.size(0),-1).shape"
   ]
  },
  {
   "cell_type": "code",
   "execution_count": 64,
   "metadata": {},
   "outputs": [
    {
     "data": {
      "text/plain": [
       "array([-0.03128077, -0.03140585, -0.03711113, -0.03376895,  0.00679265,\n",
       "        0.07929957, -0.03560515, -0.01639745,  0.00513535, -0.03514862,\n",
       "        0.01214435,  0.03809296, -0.04939611, -0.01014966, -0.01141113,\n",
       "        0.05275601, -0.11835978,  0.00104154,  0.02069406,  0.01723971,\n",
       "       -0.02590562, -0.02217248,  0.1149882 ,  0.09371392,  0.01756015,\n",
       "        0.03562615,  0.03454905,  0.03372058, -0.03395695,  0.04372535,\n",
       "       -0.01398423,  0.06773129, -0.02385572, -0.08826905,  0.0351416 ,\n",
       "        0.00820814,  0.00754348, -0.0866015 ,  0.0070538 , -0.0322756 ,\n",
       "       -0.0079617 ,  0.04043268,  0.05499927, -0.01727202,  0.03432511,\n",
       "        0.0692946 ,  0.01672833, -0.00609648,  0.03495277, -0.03003597,\n",
       "        0.09695362, -0.02153637, -0.02725231,  0.01253891, -0.03463025,\n",
       "        0.00286305, -0.0222347 , -0.05259975,  0.04361466, -0.00577727,\n",
       "        0.10136186,  0.02847631, -0.0156172 , -0.01082244, -0.0203407 ,\n",
       "        0.01461098, -0.00611476, -0.03060215, -0.0350413 ,  0.06693184,\n",
       "       -0.01071233, -0.00040449,  0.05418933, -0.01818164,  0.04418454,\n",
       "       -0.02437235,  0.01688581, -0.04679177, -0.00048936, -0.01825155,\n",
       "        0.01754458,  0.0249173 , -0.07512808, -0.07919672,  0.00262196,\n",
       "        0.0524866 ,  0.05020837, -0.06964623,  0.0156933 , -0.1210858 ,\n",
       "        0.08577061,  0.01098469,  0.07518345,  0.01276763,  0.04395642,\n",
       "       -0.00884404,  0.05404012, -0.00124339,  0.04706128,  0.04545214])"
      ]
     },
     "execution_count": 64,
     "metadata": {},
     "output_type": "execute_result"
    }
   ],
   "source": [
    "np.random.randn(*shape).mean(axis=(1,2,3))"
   ]
  },
  {
   "cell_type": "code",
   "execution_count": null,
   "metadata": {},
   "outputs": [],
   "source": []
  }
 ],
 "metadata": {
  "kernelspec": {
   "display_name": "Python 2",
   "language": "python",
   "name": "python2"
  },
  "language_info": {
   "codemirror_mode": {
    "name": "ipython",
    "version": 2
   },
   "file_extension": ".py",
   "mimetype": "text/x-python",
   "name": "python",
   "nbconvert_exporter": "python",
   "pygments_lexer": "ipython2",
   "version": "2.7.15"
  }
 },
 "nbformat": 4,
 "nbformat_minor": 2
}
