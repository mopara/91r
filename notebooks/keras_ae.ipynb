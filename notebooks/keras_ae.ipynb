{
 "cells": [
  {
   "cell_type": "code",
   "execution_count": 2,
   "metadata": {},
   "outputs": [
    {
     "name": "stderr",
     "output_type": "stream",
     "text": [
      "Using TensorFlow backend.\n"
     ]
    }
   ],
   "source": [
    "from keras.layers import Input, Dense\n",
    "from keras.models import Model"
   ]
  },
  {
   "cell_type": "code",
   "execution_count": 3,
   "metadata": {},
   "outputs": [],
   "source": [
    "from keras.datasets import mnist\n",
    "import numpy as np"
   ]
  },
  {
   "cell_type": "code",
   "execution_count": 4,
   "metadata": {},
   "outputs": [],
   "source": [
    "(x_train, _), (x_test, _) = mnist.load_data()"
   ]
  },
  {
   "cell_type": "code",
   "execution_count": 8,
   "metadata": {},
   "outputs": [
    {
     "data": {
      "text/plain": [
       "True"
      ]
     },
     "execution_count": 8,
     "metadata": {},
     "output_type": "execute_result"
    }
   ],
   "source": [
    "##\n",
    "import torch as T\n",
    "x2 = T.load(\"../../91r/mnist/train-images-idx3-ubyte.T\").numpy()\n",
    "(x_train==x2).all()"
   ]
  },
  {
   "cell_type": "code",
   "execution_count": 8,
   "metadata": {},
   "outputs": [],
   "source": [
    "x_train = x_train.astype('float32') / 255.\n",
    "x_test = x_test.astype('float32') / 255.\n",
    "x_train = x_train.reshape((len(x_train), np.prod(x_train.shape[1:])))\n",
    "x_test = x_test.reshape((len(x_test), np.prod(x_test.shape[1:])))"
   ]
  },
  {
   "cell_type": "code",
   "execution_count": 9,
   "metadata": {},
   "outputs": [],
   "source": [
    "input_img = Input(shape=(784,))\n",
    "encoded = Dense(128, activation='relu')(input_img)\n",
    "encoded = Dense(64, activation='relu')(encoded)\n",
    "encoded = Dense(32, activation='relu')(encoded)\n",
    "\n",
    "decoded = Dense(64, activation='relu')(encoded)\n",
    "decoded = Dense(128, activation='relu')(decoded)\n",
    "decoded = Dense(784, activation='sigmoid')(decoded)"
   ]
  },
  {
   "cell_type": "code",
   "execution_count": 10,
   "metadata": {
    "scrolled": false
   },
   "outputs": [
    {
     "name": "stdout",
     "output_type": "stream",
     "text": [
      "Train on 60000 samples, validate on 10000 samples\n",
      "Epoch 1/100\n",
      "60000/60000 [==============================] - 3s 56us/step - loss: 0.3330 - val_loss: 0.2635\n",
      "Epoch 2/100\n",
      "60000/60000 [==============================] - 3s 55us/step - loss: 0.2563 - val_loss: 0.2485\n",
      "Epoch 3/100\n",
      "60000/60000 [==============================] - 3s 56us/step - loss: 0.2345 - val_loss: 0.2210\n",
      "Epoch 4/100\n",
      "60000/60000 [==============================] - 3s 55us/step - loss: 0.2136 - val_loss: 0.2050\n",
      "Epoch 5/100\n",
      "60000/60000 [==============================] - 3s 57us/step - loss: 0.1998 - val_loss: 0.1945\n",
      "Epoch 6/100\n",
      "60000/60000 [==============================] - 4s 59us/step - loss: 0.1917 - val_loss: 0.1859\n",
      "Epoch 7/100\n",
      "60000/60000 [==============================] - 4s 59us/step - loss: 0.1829 - val_loss: 0.1766\n",
      "Epoch 8/100\n",
      "60000/60000 [==============================] - 4s 60us/step - loss: 0.1749 - val_loss: 0.1692\n",
      "Epoch 9/100\n",
      "60000/60000 [==============================] - 4s 60us/step - loss: 0.1682 - val_loss: 0.1626\n",
      "Epoch 10/100\n",
      "60000/60000 [==============================] - 4s 62us/step - loss: 0.1619 - val_loss: 0.1568\n",
      "Epoch 11/100\n",
      "60000/60000 [==============================] - 4s 62us/step - loss: 0.1566 - val_loss: 0.1542\n",
      "Epoch 12/100\n",
      "60000/60000 [==============================] - 4s 62us/step - loss: 0.1524 - val_loss: 0.1494\n",
      "Epoch 13/100\n",
      "60000/60000 [==============================] - 4s 63us/step - loss: 0.1487 - val_loss: 0.1460\n",
      "Epoch 14/100\n",
      "60000/60000 [==============================] - 4s 62us/step - loss: 0.1462 - val_loss: 0.1452\n",
      "Epoch 15/100\n",
      "60000/60000 [==============================] - 4s 62us/step - loss: 0.1441 - val_loss: 0.1415\n",
      "Epoch 16/100\n",
      "60000/60000 [==============================] - 4s 62us/step - loss: 0.1420 - val_loss: 0.1388\n",
      "Epoch 17/100\n",
      "60000/60000 [==============================] - 4s 63us/step - loss: 0.1400 - val_loss: 0.1397\n",
      "Epoch 18/100\n",
      "60000/60000 [==============================] - 4s 61us/step - loss: 0.1380 - val_loss: 0.1344\n",
      "Epoch 19/100\n",
      "60000/60000 [==============================] - 4s 62us/step - loss: 0.1361 - val_loss: 0.1338\n",
      "Epoch 20/100\n",
      "60000/60000 [==============================] - 4s 64us/step - loss: 0.1344 - val_loss: 0.1315\n",
      "Epoch 21/100\n",
      "60000/60000 [==============================] - 4s 62us/step - loss: 0.1328 - val_loss: 0.1336\n",
      "Epoch 22/100\n",
      "60000/60000 [==============================] - 4s 62us/step - loss: 0.1315 - val_loss: 0.1323\n",
      "Epoch 23/100\n",
      "60000/60000 [==============================] - 4s 62us/step - loss: 0.1303 - val_loss: 0.1278\n",
      "Epoch 24/100\n",
      "60000/60000 [==============================] - 4s 60us/step - loss: 0.1292 - val_loss: 0.1280\n",
      "Epoch 25/100\n",
      "60000/60000 [==============================] - 4s 61us/step - loss: 0.1280 - val_loss: 0.1266\n",
      "Epoch 26/100\n",
      "60000/60000 [==============================] - 4s 61us/step - loss: 0.1271 - val_loss: 0.1261\n",
      "Epoch 27/100\n",
      "60000/60000 [==============================] - 4s 61us/step - loss: 0.1260 - val_loss: 0.1260\n",
      "Epoch 28/100\n",
      "60000/60000 [==============================] - 4s 62us/step - loss: 0.1251 - val_loss: 0.1228\n",
      "Epoch 29/100\n",
      "60000/60000 [==============================] - 4s 61us/step - loss: 0.1239 - val_loss: 0.1212\n",
      "Epoch 30/100\n",
      "60000/60000 [==============================] - 4s 60us/step - loss: 0.1229 - val_loss: 0.1217\n",
      "Epoch 31/100\n",
      "60000/60000 [==============================] - 4s 60us/step - loss: 0.1221 - val_loss: 0.1226\n",
      "Epoch 32/100\n",
      "60000/60000 [==============================] - 4s 60us/step - loss: 0.1213 - val_loss: 0.1209\n",
      "Epoch 33/100\n",
      "60000/60000 [==============================] - 4s 63us/step - loss: 0.1205 - val_loss: 0.1187\n",
      "Epoch 34/100\n",
      "60000/60000 [==============================] - 4s 73us/step - loss: 0.1197 - val_loss: 0.1181\n",
      "Epoch 35/100\n",
      "60000/60000 [==============================] - 5s 84us/step - loss: 0.1191 - val_loss: 0.1163\n",
      "Epoch 36/100\n",
      "60000/60000 [==============================] - 4s 63us/step - loss: 0.1184 - val_loss: 0.1184\n",
      "Epoch 37/100\n",
      "60000/60000 [==============================] - 4s 71us/step - loss: 0.1179 - val_loss: 0.1187\n",
      "Epoch 38/100\n",
      "60000/60000 [==============================] - 4s 72us/step - loss: 0.1172 - val_loss: 0.1146\n",
      "Epoch 39/100\n",
      "60000/60000 [==============================] - 4s 61us/step - loss: 0.1167 - val_loss: 0.1142\n",
      "Epoch 40/100\n",
      "60000/60000 [==============================] - 4s 61us/step - loss: 0.1162 - val_loss: 0.1150\n",
      "Epoch 41/100\n",
      "60000/60000 [==============================] - 4s 61us/step - loss: 0.1155 - val_loss: 0.1132\n",
      "Epoch 42/100\n",
      "60000/60000 [==============================] - 4s 63us/step - loss: 0.1151 - val_loss: 0.1120\n",
      "Epoch 43/100\n",
      "60000/60000 [==============================] - 4s 62us/step - loss: 0.1146 - val_loss: 0.1136\n",
      "Epoch 44/100\n",
      "60000/60000 [==============================] - 4s 62us/step - loss: 0.1142 - val_loss: 0.1126\n",
      "Epoch 45/100\n",
      "60000/60000 [==============================] - 4s 62us/step - loss: 0.1137 - val_loss: 0.1119\n",
      "Epoch 46/100\n",
      "60000/60000 [==============================] - 4s 63us/step - loss: 0.1131 - val_loss: 0.1107\n",
      "Epoch 47/100\n",
      "60000/60000 [==============================] - 4s 61us/step - loss: 0.1128 - val_loss: 0.1098\n",
      "Epoch 48/100\n",
      "60000/60000 [==============================] - 4s 62us/step - loss: 0.1123 - val_loss: 0.1110\n",
      "Epoch 49/100\n",
      "60000/60000 [==============================] - 4s 62us/step - loss: 0.1119 - val_loss: 0.1117\n",
      "Epoch 50/100\n",
      "60000/60000 [==============================] - 4s 61us/step - loss: 0.1116 - val_loss: 0.1111\n",
      "Epoch 51/100\n",
      "60000/60000 [==============================] - 4s 61us/step - loss: 0.1112 - val_loss: 0.1115\n",
      "Epoch 52/100\n",
      "60000/60000 [==============================] - 4s 61us/step - loss: 0.1110 - val_loss: 0.1098\n",
      "Epoch 53/100\n",
      "60000/60000 [==============================] - 4s 61us/step - loss: 0.1106 - val_loss: 0.1103\n",
      "Epoch 54/100\n",
      "60000/60000 [==============================] - 4s 73us/step - loss: 0.1102 - val_loss: 0.1101\n",
      "Epoch 55/100\n",
      "60000/60000 [==============================] - 4s 67us/step - loss: 0.1099 - val_loss: 0.1104\n",
      "Epoch 56/100\n",
      "60000/60000 [==============================] - 4s 63us/step - loss: 0.1096 - val_loss: 0.1099\n",
      "Epoch 57/100\n",
      "60000/60000 [==============================] - 4s 62us/step - loss: 0.1092 - val_loss: 0.1081\n",
      "Epoch 58/100\n",
      "60000/60000 [==============================] - 4s 74us/step - loss: 0.1089 - val_loss: 0.1064\n",
      "Epoch 59/100\n",
      "60000/60000 [==============================] - 4s 62us/step - loss: 0.1084 - val_loss: 0.1062\n",
      "Epoch 60/100\n",
      "60000/60000 [==============================] - 4s 61us/step - loss: 0.1084 - val_loss: 0.1052\n",
      "Epoch 61/100\n",
      "60000/60000 [==============================] - 5s 84us/step - loss: 0.1078 - val_loss: 0.1093\n",
      "Epoch 62/100\n",
      "60000/60000 [==============================] - 4s 65us/step - loss: 0.1076 - val_loss: 0.1067\n",
      "Epoch 63/100\n",
      "60000/60000 [==============================] - 4s 69us/step - loss: 0.1072 - val_loss: 0.1064\n",
      "Epoch 64/100\n",
      "60000/60000 [==============================] - 5s 75us/step - loss: 0.1069 - val_loss: 0.1047\n",
      "Epoch 65/100\n",
      "60000/60000 [==============================] - 4s 68us/step - loss: 0.1067 - val_loss: 0.1053\n",
      "Epoch 66/100\n",
      "60000/60000 [==============================] - 4s 74us/step - loss: 0.1063 - val_loss: 0.1052\n",
      "Epoch 67/100\n",
      "60000/60000 [==============================] - 4s 63us/step - loss: 0.1061 - val_loss: 0.1043\n",
      "Epoch 68/100\n",
      "60000/60000 [==============================] - 4s 62us/step - loss: 0.1058 - val_loss: 0.1047\n",
      "Epoch 69/100\n",
      "60000/60000 [==============================] - 4s 63us/step - loss: 0.1055 - val_loss: 0.1057\n",
      "Epoch 70/100\n",
      "60000/60000 [==============================] - 4s 63us/step - loss: 0.1053 - val_loss: 0.1038\n",
      "Epoch 71/100\n",
      "60000/60000 [==============================] - 4s 74us/step - loss: 0.1051 - val_loss: 0.1052\n",
      "Epoch 72/100\n",
      "60000/60000 [==============================] - 4s 72us/step - loss: 0.1049 - val_loss: 0.1039\n",
      "Epoch 73/100\n",
      "60000/60000 [==============================] - 4s 64us/step - loss: 0.1046 - val_loss: 0.1032\n",
      "Epoch 74/100\n",
      "60000/60000 [==============================] - 4s 73us/step - loss: 0.1044 - val_loss: 0.1031\n",
      "Epoch 75/100\n",
      "60000/60000 [==============================] - 5s 83us/step - loss: 0.1041 - val_loss: 0.1046\n",
      "Epoch 76/100\n",
      "60000/60000 [==============================] - 4s 63us/step - loss: 0.1038 - val_loss: 0.1037\n",
      "Epoch 77/100\n",
      "60000/60000 [==============================] - 4s 60us/step - loss: 0.1037 - val_loss: 0.1032\n",
      "Epoch 78/100\n",
      "60000/60000 [==============================] - 4s 63us/step - loss: 0.1035 - val_loss: 0.1019\n",
      "Epoch 79/100\n",
      "60000/60000 [==============================] - 4s 64us/step - loss: 0.1032 - val_loss: 0.1024\n",
      "Epoch 80/100\n",
      "60000/60000 [==============================] - 4s 62us/step - loss: 0.1031 - val_loss: 0.1013\n",
      "Epoch 81/100\n",
      "60000/60000 [==============================] - 4s 73us/step - loss: 0.1028 - val_loss: 0.1007\n",
      "Epoch 82/100\n",
      "60000/60000 [==============================] - 4s 66us/step - loss: 0.1027 - val_loss: 0.1022\n",
      "Epoch 83/100\n",
      "60000/60000 [==============================] - 4s 61us/step - loss: 0.1023 - val_loss: 0.1014\n",
      "Epoch 84/100\n",
      "60000/60000 [==============================] - 4s 61us/step - loss: 0.1022 - val_loss: 0.1015\n",
      "Epoch 85/100\n",
      "60000/60000 [==============================] - 4s 61us/step - loss: 0.1021 - val_loss: 0.1019\n",
      "Epoch 86/100\n",
      "60000/60000 [==============================] - 4s 67us/step - loss: 0.1017 - val_loss: 0.1008\n",
      "Epoch 87/100\n",
      "60000/60000 [==============================] - 4s 69us/step - loss: 0.1014 - val_loss: 0.1006\n",
      "Epoch 88/100\n",
      "60000/60000 [==============================] - 4s 67us/step - loss: 0.1013 - val_loss: 0.0995\n",
      "Epoch 89/100\n",
      "60000/60000 [==============================] - 4s 65us/step - loss: 0.1011 - val_loss: 0.1018\n",
      "Epoch 90/100\n",
      "60000/60000 [==============================] - 4s 62us/step - loss: 0.1010 - val_loss: 0.1006\n",
      "Epoch 91/100\n",
      "60000/60000 [==============================] - 4s 64us/step - loss: 0.1006 - val_loss: 0.0998\n",
      "Epoch 92/100\n",
      "60000/60000 [==============================] - 4s 63us/step - loss: 0.1006 - val_loss: 0.0999\n",
      "Epoch 93/100\n",
      "60000/60000 [==============================] - 4s 64us/step - loss: 0.1003 - val_loss: 0.1001\n",
      "Epoch 94/100\n",
      "60000/60000 [==============================] - 4s 66us/step - loss: 0.1002 - val_loss: 0.1016\n",
      "Epoch 95/100\n",
      "60000/60000 [==============================] - 5s 88us/step - loss: 0.1000 - val_loss: 0.0987\n",
      "Epoch 96/100\n",
      "60000/60000 [==============================] - 4s 63us/step - loss: 0.0999 - val_loss: 0.1023\n",
      "Epoch 97/100\n",
      "60000/60000 [==============================] - 4s 63us/step - loss: 0.0998 - val_loss: 0.0990\n",
      "Epoch 98/100\n",
      "60000/60000 [==============================] - 4s 61us/step - loss: 0.0994 - val_loss: 0.0982\n",
      "Epoch 99/100\n",
      "60000/60000 [==============================] - 4s 62us/step - loss: 0.0994 - val_loss: 0.0985\n",
      "Epoch 100/100\n",
      "60000/60000 [==============================] - 4s 60us/step - loss: 0.0992 - val_loss: 0.0976\n"
     ]
    },
    {
     "data": {
      "text/plain": [
       "<keras.callbacks.History at 0x104f752d0>"
      ]
     },
     "execution_count": 10,
     "metadata": {},
     "output_type": "execute_result"
    }
   ],
   "source": [
    "autoencoder = Model(input_img, decoded)\n",
    "autoencoder.compile(optimizer='adadelta', loss='binary_crossentropy')\n",
    "\n",
    "autoencoder.fit(x_train, x_train,\n",
    "                epochs=100,\n",
    "                batch_size=256,\n",
    "                shuffle=True,\n",
    "                validation_data=(x_test, x_test))"
   ]
  },
  {
   "cell_type": "code",
   "execution_count": null,
   "metadata": {},
   "outputs": [],
   "source": []
  }
 ],
 "metadata": {
  "kernelspec": {
   "display_name": "Python 2",
   "language": "python",
   "name": "python2"
  },
  "language_info": {
   "codemirror_mode": {
    "name": "ipython",
    "version": 2
   },
   "file_extension": ".py",
   "mimetype": "text/x-python",
   "name": "python",
   "nbconvert_exporter": "python",
   "pygments_lexer": "ipython2",
   "version": "2.7.15"
  }
 },
 "nbformat": 4,
 "nbformat_minor": 2
}
